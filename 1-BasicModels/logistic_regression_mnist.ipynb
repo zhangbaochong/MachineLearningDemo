{
 "cells": [
  {
   "cell_type": "code",
   "execution_count": 20,
   "metadata": {},
   "outputs": [],
   "source": [
    "import tensorflow as tf\n",
    "import numpy as np\n",
    "import matplotlib.pyplot as plt\n",
    "%matplotlib inline "
   ]
  },
  {
   "cell_type": "code",
   "execution_count": 3,
   "metadata": {
    "scrolled": false
   },
   "outputs": [
    {
     "name": "stdout",
     "output_type": "stream",
     "text": [
      "Extracting ../Resources/mnistdata\\train-images-idx3-ubyte.gz\n",
      "Extracting ../Resources/mnistdata\\train-labels-idx1-ubyte.gz\n",
      "Extracting ../Resources/mnistdata\\t10k-images-idx3-ubyte.gz\n",
      "Extracting ../Resources/mnistdata\\t10k-labels-idx1-ubyte.gz\n",
      "(55000, 784) (55000, 10)\n",
      "(10000, 784) (10000, 10)\n"
     ]
    }
   ],
   "source": [
    "# 获得mnist数据\n",
    "from tensorflow.examples.tutorials.mnist import input_data\n",
    "mnist = input_data.read_data_sets(\"../Resources/mnistdata\", one_hot=True)\n",
    "trainimg   = mnist.train.images\n",
    "trainlabel = mnist.train.labels\n",
    "testimg    = mnist.test.images\n",
    "testlabel  = mnist.test.labels\n",
    "print(trainimg.shape, trainlabel.shape)\n",
    "print(testimg.shape, testlabel.shape)\n"
   ]
  },
  {
   "cell_type": "code",
   "execution_count": 11,
   "metadata": {},
   "outputs": [],
   "source": [
    "# params\n",
    "learning_rate = 0.01\n",
    "training_epochs = 100\n",
    "display_step = 10\n",
    "batch_size = 100\n",
    "\n",
    "n_features = 784\n",
    "n_classes = 10\n",
    "\n",
    "#place holder\n",
    "X = tf.placeholder(tf.float32, [None, n_features])\n",
    "Y = tf.placeholder(tf.float32, [None, n_classes])\n",
    "W = tf.Variable(tf.zeros([n_features, n_classes]))\n",
    "b = tf.Variable(tf.zeros([n_classes])) \n",
    "\n",
    "# 创建模型\n",
    "pred = tf.nn.softmax(tf.matmul(X, W) + b)\n",
    "\n",
    "# 交叉熵损失函数\n",
    "cost = tf.reduce_mean(-tf.reduce_sum(Y*tf.log(pred), reduction_indices=1))\n",
    "\n",
    "# 梯度下降\n",
    "optimizer = tf.train.GradientDescentOptimizer(learning_rate).minimize(cost)\n",
    "\n",
    "init = tf.global_variables_initializer()"
   ]
  },
  {
   "cell_type": "code",
   "execution_count": 21,
   "metadata": {},
   "outputs": [
    {
     "name": "stdout",
     "output_type": "stream",
     "text": [
      "Epoch: 000/100 cost: 1.184455666\n",
      "Epoch: 010/100 cost: 0.384634113\n",
      "Epoch: 020/100 cost: 0.342271854\n",
      "Epoch: 030/100 cost: 0.323655767\n",
      "Epoch: 040/100 cost: 0.312717121\n",
      "Epoch: 050/100 cost: 0.303683319\n",
      "Epoch: 060/100 cost: 0.299154323\n",
      "Epoch: 070/100 cost: 0.293884130\n",
      "Epoch: 080/100 cost: 0.288788997\n",
      "Epoch: 090/100 cost: 0.286380394\n",
      "Accuracy: 0.9227\n"
     ]
    }
   ],
   "source": [
    "with tf.Session() as sess:\n",
    "    sess.run(init)\n",
    "    training_epoch = 5\n",
    "    for epoch in range(training_epochs):\n",
    "        avg_cost = 0\n",
    "        num_batch = int(mnist.train.num_examples/batch_size)\n",
    "        for i in range(num_batch):\n",
    "            batch_xs, batch_ys = mnist.train.next_batch(batch_size)\n",
    "            _, cost_tmp = sess.run([optimizer, cost], feed_dict={X: batch_xs, Y:batch_ys})\n",
    "            avg_cost += cost_tmp / num_batch\n",
    "        if epoch % display_step == 0:\n",
    "            print (\"Epoch: %03d/%03d cost: %.9f\" % (epoch, training_epochs, avg_cost))\n",
    "            train_acc = sess.run(cost, feed_dict={X: batch_xs, Y: batch_ys})\n",
    "    # 测试模型\n",
    "    correct_prediction = tf.equal(tf.argmax(pred, 1), tf.argmax(Y, 1))\n",
    "    # Calculate accuracy \n",
    "    # tf.cast可以将bool转换为浮点数 例如[True, False, True, True] 会变成 [1,0,1,1] ，取平均值后得到 0.75\n",
    "    accuracy = tf.reduce_mean(tf.cast(correct_prediction, tf.float32))\n",
    "    print(\"Accuracy:\", accuracy.eval({X: mnist.test.images, Y: mnist.test.labels}))"
   ]
  }
 ],
 "metadata": {
  "kernelspec": {
   "display_name": "Python 3",
   "language": "python",
   "name": "python3"
  },
  "language_info": {
   "codemirror_mode": {
    "name": "ipython",
    "version": 3
   },
   "file_extension": ".py",
   "mimetype": "text/x-python",
   "name": "python",
   "nbconvert_exporter": "python",
   "pygments_lexer": "ipython3",
   "version": "3.6.5"
  }
 },
 "nbformat": 4,
 "nbformat_minor": 2
}
