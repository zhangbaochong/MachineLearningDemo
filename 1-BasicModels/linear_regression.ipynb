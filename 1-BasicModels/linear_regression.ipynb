{
 "cells": [
  {
   "cell_type": "code",
   "execution_count": 3,
   "metadata": {
    "scrolled": true
   },
   "outputs": [],
   "source": [
    "\"\"\"\n",
    "linear regression with tensorflow\n",
    "\"\"\"\n",
    "# load packages\n",
    "import numpy as np\n",
    "import pandas as pd\n",
    "import tensorflow as tf\n",
    "import matplotlib.pyplot as plt\n",
    "%matplotlib inline "
   ]
  },
  {
   "cell_type": "code",
   "execution_count": 10,
   "metadata": {
    "scrolled": true
   },
   "outputs": [
    {
     "data": {
      "image/png": "[encoded data removed]",
      "text/plain": [
       "<Figure size 432x288 with 1 Axes>"
      ]
     },
     "metadata": {},
     "output_type": "display_data"
    }
   ],
   "source": [
    "# 使用sklearn api生成随机回归数据\n",
    "from sklearn.datasets import make_regression\n",
    "# n_samples 样本数据  n_features 特征数量  noise 噪声  coef 是否返回回归系数\n",
    "train_X, train_Y ,coef = make_regression(n_samples=100, n_features=1, noise=10,coef=True)\n",
    "# 绘制散点图\n",
    "plt.scatter(train_X, train_Y, c = 'b', s = 3)\n",
    "plt.show()"
   ]
  },
  {
   "cell_type": "code",
   "execution_count": 24,
   "metadata": {},
   "outputs": [],
   "source": [
    "# 创建线性回归模型\n",
    "# params\n",
    "training_epochs = 1000\n",
    "\n",
    "# create tensorflow graph\n",
    "X = tf.placeholder(tf.float32, name='input')\n",
    "Y = tf.placeholder(tf.float32, name='output')\n",
    "W = tf.Variable(np.random.randn, name='weight')\n",
    "b = tf.Variable(np.random.randn, name='bias')\n",
    "\n",
    "# create model\n",
    "y_hat = tf.add(tf.multiply(X, W), b)\n",
    "\n",
    "# learning rate\n",
    "learning_rate = 0.01\n",
    "\n",
    "# cost function\n",
    "cost = tf.reduce_mean(tf.pow(y_hat - Y, 2))\n",
    "\n",
    "# 优化器 梯度下降\n",
    "optimizer = tf.train.GradientDescentOptimizer(learning_rate).minimize(cost)\n",
    "\n",
    "# 初始化\n",
    "init = tf.global_variables_initializer()"
   ]
  },
  {
   "cell_type": "code",
   "execution_count": 28,
   "metadata": {
    "scrolled": true
   },
   "outputs": [
    {
     "name": "stdout",
     "output_type": "stream",
     "text": [
      " Wtemp is 12.0948 btemp is 1.0314\n",
      " Wtemp is 13.5393 btemp is 2.0301\n",
      " Wtemp is 13.5393 btemp is 2.0301\n",
      " Wtemp is 13.5393 btemp is 2.0301\n",
      " Wtemp is 13.5393 btemp is 2.0301\n",
      " Wtemp is 13.5393 btemp is 2.0301\n",
      " Wtemp is 13.5393 btemp is 2.0301\n",
      " Wtemp is 13.5393 btemp is 2.0301\n",
      " Wtemp is 13.5393 btemp is 2.0301\n",
      " Wtemp is 13.5393 btemp is 2.0301\n",
      " Wtemp is 13.5393 btemp is 2.0301\n",
      " Wtemp is 13.5393 btemp is 2.0301\n",
      " Wtemp is 13.5393 btemp is 2.0301\n",
      " Wtemp is 13.5393 btemp is 2.0301\n",
      " Wtemp is 13.5393 btemp is 2.0301\n",
      " Wtemp is 13.5393 btemp is 2.0301\n",
      " Wtemp is 13.5393 btemp is 2.0301\n",
      " Wtemp is 13.5393 btemp is 2.0301\n",
      " Wtemp is 13.5393 btemp is 2.0301\n",
      " Wtemp is 13.5393 btemp is 2.0301\n"
     ]
    }
   ],
   "source": [
    "# start training\n",
    "sess = tf.Session()\n",
    "# 每训练50次 输出当前训练的W b\n",
    "display_steps = 50\n",
    "# init\n",
    "sess.run(init)\n",
    "for epoch in range(training_epochs):\n",
    "    for x, y in zip(train_X, train_Y):\n",
    "        # print(\"x : {0}, y : {1}\".format(x[0], y))\n",
    "        sess.run(optimizer, feed_dict={X:x, Y:y})\n",
    "    if epoch % display_steps == 0:\n",
    "        Wtemp = sess.run(W)\n",
    "        btemp = sess.run(b)\n",
    "        print (\" Wtemp is\", \"{:.4f}\".format(Wtemp), \"btemp is\", \"{:.4f}\".format(btemp))"
   ]
  },
  {
   "cell_type": "code",
   "execution_count": 46,
   "metadata": {},
   "outputs": [
    {
     "data": {
      "image/png": "[encoded data removed]",
      "text/plain": [
       "<Figure size 432x288 with 1 Axes>"
      ]
     },
     "metadata": {},
     "output_type": "display_data"
    }
   ],
   "source": [
    "# 最终训练结果\n",
    "# Final W and b\n",
    "W_res = sess.run(W)\n",
    "b_res = sess.run(b)\n",
    "Y_res = train_X * W_res + b_res\n",
    "# 画图显示训练结果\n",
    "plt.scatter(train_X, train_Y, c = 'b', s = 3)\n",
    "plt.plot(train_X, Y_res)\n",
    "plt.show()"
   ]
  }
 ],
 "metadata": {
  "kernelspec": {
   "display_name": "Python 3",
   "language": "python",
   "name": "python3"
  },
  "language_info": {
   "codemirror_mode": {
    "name": "ipython",
    "version": 3
   },
   "file_extension": ".py",
   "mimetype": "text/x-python",
   "name": "python",
   "nbconvert_exporter": "python",
   "pygments_lexer": "ipython3",
   "version": "3.6.5"
  }
 },
 "nbformat": 4,
 "nbformat_minor": 2
}
