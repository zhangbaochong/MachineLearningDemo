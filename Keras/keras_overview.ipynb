{
 "cells": [
  {
   "cell_type": "markdown",
   "metadata": {},
   "source": [
    "## 1 导入Keras"
   ]
  },
  {
   "cell_type": "code",
   "execution_count": 1,
   "metadata": {},
   "outputs": [
    {
     "name": "stderr",
     "output_type": "stream",
     "text": [
      "E:\\Anaconda3\\lib\\site-packages\\h5py\\__init__.py:36: FutureWarning: Conversion of the second argument of issubdtype from `float` to `np.floating` is deprecated. In future, it will be treated as `np.float64 == np.dtype(float).type`.\n",
      "  from ._conv import register_converters as _register_converters\n"
     ]
    },
    {
     "name": "stdout",
     "output_type": "stream",
     "text": [
      "2.0.0-beta1\n",
      "2.2.4-tf\n"
     ]
    }
   ],
   "source": [
    "import tensorflow as tf\n",
    "from tensorflow.keras import layers\n",
    "print(tf.__version__)\n",
    "print(tf.keras.__version__)"
   ]
  },
  {
   "cell_type": "markdown",
   "metadata": {},
   "source": [
    "## 2 构建模型\n",
    "### 2.1 模型堆叠 "
   ]
  },
  {
   "cell_type": "code",
   "execution_count": 2,
   "metadata": {},
   "outputs": [],
   "source": [
    "model = tf.keras.Sequential()\n",
    "model.add(layers.Dense(32, activation='relu'))\n",
    "model.add(layers.Dense(32, activation='relu'))\n",
    "model.add(layers.Dense(10, activation='softmax'))"
   ]
  },
  {
   "cell_type": "markdown",
   "metadata": {},
   "source": [
    "### 2.2网络配置\n",
    "tf.keras.layers中网络配置：\n",
    "activation：设置层的激活函数。此参数由内置函数的名称指定，或指定为可调用对象。默认情况下，系统不会应用任何激活函数。\n",
    "kernel_initializer 和 bias_initializer：创建层权重（核和偏差）的初始化方案。此参数是一个名称或可调用对象，默认为 \"Glorot uniform\" 初始化器。\n",
    "kernel_regularizer 和 bias_regularizer：应用层权重（核和偏差）的正则化方案，例如 L1 或 L2 正则化。默认情况下，系统不会应用正则化函数。"
   ]
  },
  {
   "cell_type": "code",
   "execution_count": 3,
   "metadata": {},
   "outputs": [
    {
     "data": {
      "text/plain": [
       "<tensorflow.python.keras.layers.core.Dense at 0x2093e223ef0>"
      ]
     },
     "execution_count": 3,
     "metadata": {},
     "output_type": "execute_result"
    }
   ],
   "source": [
    "layers.Dense(32, activation='sigmoid')\n",
    "layers.Dense(32, activation=tf.sigmoid)\n",
    "layers.Dense(32, kernel_initializer='orthogonal')\n",
    "layers.Dense(32, kernel_initializer=tf.keras.initializers.glorot_normal)\n",
    "layers.Dense(32, kernel_regularizer=tf.keras.regularizers.l2(0.01))\n",
    "layers.Dense(32, kernel_regularizer=tf.keras.regularizers.l1(0.01))"
   ]
  },
  {
   "cell_type": "markdown",
   "metadata": {},
   "source": [
    "## 3 训练和评估\n",
    "### 3.1 设置训练流程"
   ]
  },
  {
   "cell_type": "code",
   "execution_count": 4,
   "metadata": {},
   "outputs": [],
   "source": [
    "model = tf.keras.Sequential()\n",
    "model.add(layers.Dense(32, activation='relu'))\n",
    "model.add(layers.Dense(32, activation='relu'))\n",
    "model.add(layers.Dense(10, activation='softmax'))\n",
    "model.compile(optimizer=tf.keras.optimizers.Adam(0.001), \n",
    "             loss=tf.keras.losses.categorical_crossentropy,\n",
    "             metrics=[tf.keras.metrics.categorical_accuracy])"
   ]
  },
  {
   "cell_type": "markdown",
   "metadata": {},
   "source": [
    "### 3.2 输入numpy数据"
   ]
  },
  {
   "cell_type": "code",
   "execution_count": 5,
   "metadata": {},
   "outputs": [
    {
     "name": "stderr",
     "output_type": "stream",
     "text": [
      "WARNING: Logging before flag parsing goes to stderr.\n",
      "W0804 22:52:34.305140 17884 deprecation.py:323] From E:\\Anaconda3\\lib\\site-packages\\tensorflow\\python\\ops\\math_grad.py:1250: add_dispatch_support.<locals>.wrapper (from tensorflow.python.ops.array_ops) is deprecated and will be removed in a future version.\n",
      "Instructions for updating:\n",
      "Use tf.where in 2.0, which has the same broadcast rule as np.where\n"
     ]
    },
    {
     "name": "stdout",
     "output_type": "stream",
     "text": [
      "Train on 1000 samples, validate on 200 samples\n",
      "Epoch 1/10\n",
      "1000/1000 [==============================] - 1s 518us/sample - loss: 11.4622 - categorical_accuracy: 0.1070 - val_loss: 11.5794 - val_categorical_accuracy: 0.0750\n",
      "Epoch 2/10\n",
      "1000/1000 [==============================] - 0s 51us/sample - loss: 11.4411 - categorical_accuracy: 0.1050 - val_loss: 11.5709 - val_categorical_accuracy: 0.0900\n",
      "Epoch 3/10\n",
      "1000/1000 [==============================] - 0s 47us/sample - loss: 11.4341 - categorical_accuracy: 0.1190 - val_loss: 11.5656 - val_categorical_accuracy: 0.0750\n",
      "Epoch 4/10\n",
      "1000/1000 [==============================] - 0s 50us/sample - loss: 11.4304 - categorical_accuracy: 0.1160 - val_loss: 11.5617 - val_categorical_accuracy: 0.0800\n",
      "Epoch 5/10\n",
      "1000/1000 [==============================] - 0s 53us/sample - loss: 11.4289 - categorical_accuracy: 0.1250 - val_loss: 11.5589 - val_categorical_accuracy: 0.1200\n",
      "Epoch 6/10\n",
      "1000/1000 [==============================] - 0s 50us/sample - loss: 11.4269 - categorical_accuracy: 0.1390 - val_loss: 11.5592 - val_categorical_accuracy: 0.0800\n",
      "Epoch 7/10\n",
      "1000/1000 [==============================] - 0s 60us/sample - loss: 11.4252 - categorical_accuracy: 0.1350 - val_loss: 11.5609 - val_categorical_accuracy: 0.0900\n",
      "Epoch 8/10\n",
      "1000/1000 [==============================] - 0s 56us/sample - loss: 11.4237 - categorical_accuracy: 0.1370 - val_loss: 11.5606 - val_categorical_accuracy: 0.0800\n",
      "Epoch 9/10\n",
      "1000/1000 [==============================] - 0s 63us/sample - loss: 11.4218 - categorical_accuracy: 0.1420 - val_loss: 11.5605 - val_categorical_accuracy: 0.0800\n",
      "Epoch 10/10\n",
      "1000/1000 [==============================] - 0s 64us/sample - loss: 11.4200 - categorical_accuracy: 0.1480 - val_loss: 11.5609 - val_categorical_accuracy: 0.0700\n"
     ]
    },
    {
     "data": {
      "text/plain": [
       "<tensorflow.python.keras.callbacks.History at 0x2093e23f908>"
      ]
     },
     "execution_count": 5,
     "metadata": {},
     "output_type": "execute_result"
    }
   ],
   "source": [
    "import numpy as np\n",
    "train_x = np.random.random((1000, 72))\n",
    "train_y = np.random.random((1000, 10))\n",
    "val_x = np.random.random((200, 72))\n",
    "val_y = np.random.random((200, 10))\n",
    "model.fit(train_x, train_y, epochs=10, batch_size=100, validation_data=(val_x, val_y))"
   ]
  },
  {
   "cell_type": "markdown",
   "metadata": {},
   "source": [
    "### 3.3 tf.data输入数据"
   ]
  },
  {
   "cell_type": "code",
   "execution_count": 6,
   "metadata": {},
   "outputs": [
    {
     "name": "stderr",
     "output_type": "stream",
     "text": [
      "W0804 22:52:35.830274 17884 training_utils.py:1436] Expected a shuffled dataset but input dataset `x` is not shuffled. Please invoke `shuffle()` on input dataset.\n"
     ]
    },
    {
     "name": "stdout",
     "output_type": "stream",
     "text": [
      "Epoch 1/10\n",
      "30/30 [==============================] - 0s 13ms/step - loss: 11.3993 - categorical_accuracy: 0.1375 - val_loss: 11.4930 - val_categorical_accuracy: 0.1050\n",
      "Epoch 2/10\n",
      "30/30 [==============================] - 0s 10ms/step - loss: 11.4117 - categorical_accuracy: 0.1389 - val_loss: 11.4932 - val_categorical_accuracy: 0.1100\n",
      "Epoch 3/10\n",
      "30/30 [==============================] - 0s 8ms/step - loss: 11.4011 - categorical_accuracy: 0.1453 - val_loss: 11.4951 - val_categorical_accuracy: 0.0950\n",
      "Epoch 4/10\n",
      "30/30 [==============================] - 0s 7ms/step - loss: 11.3575 - categorical_accuracy: 0.1464 - val_loss: 11.4964 - val_categorical_accuracy: 0.0900\n",
      "Epoch 5/10\n",
      "30/30 [==============================] - 0s 7ms/step - loss: 11.4097 - categorical_accuracy: 0.1517 - val_loss: 11.4972 - val_categorical_accuracy: 0.1050\n",
      "Epoch 6/10\n",
      "30/30 [==============================] - 0s 6ms/step - loss: 11.3962 - categorical_accuracy: 0.1571 - val_loss: 11.5009 - val_categorical_accuracy: 0.0900\n",
      "Epoch 7/10\n",
      "30/30 [==============================] - 0s 7ms/step - loss: 11.3967 - categorical_accuracy: 0.1592 - val_loss: 11.5030 - val_categorical_accuracy: 0.0850\n",
      "Epoch 8/10\n",
      "30/30 [==============================] - 0s 6ms/step - loss: 11.3679 - categorical_accuracy: 0.1656 - val_loss: 11.5076 - val_categorical_accuracy: 0.0900\n",
      "Epoch 9/10\n",
      "30/30 [==============================] - 0s 5ms/step - loss: 11.3749 - categorical_accuracy: 0.1656 - val_loss: 11.5109 - val_categorical_accuracy: 0.0800\n",
      "Epoch 10/10\n",
      "30/30 [==============================] - 0s 6ms/step - loss: 11.3841 - categorical_accuracy: 0.1688 - val_loss: 11.5154 - val_categorical_accuracy: 0.0800\n"
     ]
    },
    {
     "data": {
      "text/plain": [
       "<tensorflow.python.keras.callbacks.History at 0x2095f2abac8>"
      ]
     },
     "execution_count": 6,
     "metadata": {},
     "output_type": "execute_result"
    }
   ],
   "source": [
    "dataset = tf.data.Dataset.from_tensor_slices((train_x, train_y))\n",
    "dataset = dataset.batch(32)\n",
    "dataset = dataset.repeat()\n",
    "model.fit(dataset, epochs=10, steps_per_epoch=30, validation_data=(val_x, val_y), validation_steps=3)"
   ]
  },
  {
   "cell_type": "markdown",
   "metadata": {},
   "source": [
    "### 3.4 评估预测"
   ]
  },
  {
   "cell_type": "code",
   "execution_count": 7,
   "metadata": {},
   "outputs": [
    {
     "name": "stdout",
     "output_type": "stream",
     "text": [
      "1000/1000 [==============================] - 0s 117us/sample - loss: 11.5430 - categorical_accuracy: 0.0810\n",
      "30/30 [==============================] - 0s 4ms/step - loss: 11.5576 - categorical_accuracy: 0.0812\n"
     ]
    },
    {
     "data": {
      "text/plain": [
       "[11.557552528381347, 0.08125]"
      ]
     },
     "execution_count": 7,
     "metadata": {},
     "output_type": "execute_result"
    }
   ],
   "source": [
    "test_x = np.random.random((1000, 72))\n",
    "test_y = np.random.random((1000, 10))\n",
    "model.evaluate(test_x, test_y, batch_size=32)\n",
    "test_data = tf.data.Dataset.from_tensor_slices((test_x, test_y))\n",
    "test_data = test_data.batch(32).repeat()\n",
    "model.evaluate(test_data, steps=30)"
   ]
  },
  {
   "cell_type": "code",
   "execution_count": 8,
   "metadata": {},
   "outputs": [
    {
     "name": "stdout",
     "output_type": "stream",
     "text": [
      "[[0.09861725 0.09936366 0.10924117 ... 0.095795   0.08978011 0.10099507]\n",
      " [0.09774385 0.10007057 0.1054799  ... 0.1070191  0.0897495  0.09493347]\n",
      " [0.08416529 0.08979382 0.1281266  ... 0.08430692 0.08566346 0.09176555]\n",
      " ...\n",
      " [0.08788679 0.11144421 0.09417646 ... 0.11775994 0.09587049 0.09484484]\n",
      " [0.09550127 0.0948486  0.10436514 ... 0.10358349 0.09279111 0.08629732]\n",
      " [0.08221681 0.09019032 0.12323799 ... 0.06092671 0.09274279 0.13029665]]\n"
     ]
    }
   ],
   "source": [
    "#predict\n",
    "result = model.predict(test_x, batch_size=32)\n",
    "print(result)"
   ]
  },
  {
   "cell_type": "markdown",
   "metadata": {},
   "source": [
    "## 4 构建高级模型\n",
    "### 4.1 函数式API"
   ]
  },
  {
   "cell_type": "code",
   "execution_count": 9,
   "metadata": {},
   "outputs": [
    {
     "name": "stdout",
     "output_type": "stream",
     "text": [
      "Train on 1000 samples\n",
      "Epoch 1/5\n",
      "1000/1000 [==============================] - 0s 353us/sample - loss: 11.3843 - accuracy: 0.1690\n",
      "Epoch 2/5\n",
      "1000/1000 [==============================] - 0s 123us/sample - loss: 11.3786 - accuracy: 0.1920\n",
      "Epoch 3/5\n",
      "1000/1000 [==============================] - 0s 122us/sample - loss: 11.3750 - accuracy: 0.1840\n",
      "Epoch 4/5\n",
      "1000/1000 [==============================] - 0s 119us/sample - loss: 11.3719 - accuracy: 0.1940\n",
      "Epoch 5/5\n",
      "1000/1000 [==============================] - 0s 131us/sample - loss: 11.3691 - accuracy: 0.1960\n"
     ]
    },
    {
     "data": {
      "text/plain": [
       "<tensorflow.python.keras.callbacks.History at 0x2093e23fb00>"
      ]
     },
     "execution_count": 9,
     "metadata": {},
     "output_type": "execute_result"
    }
   ],
   "source": [
    "input_x = tf.keras.Input(shape=(72,))\n",
    "hidden1 = layers.Dense(32, activation='relu')(input_x)\n",
    "hidden2 = layers.Dense(16, activation='relu')(hidden1)\n",
    "pred = layers.Dense(10, activation='softmax')(hidden2)\n",
    "model.compile(optimizer=tf.keras.optimizers.Adam(0.001),\n",
    "             loss=tf.keras.losses.categorical_crossentropy,\n",
    "             metrics=['accuracy'])\n",
    "model.fit(train_x, train_y, batch_size=32, epochs=5)"
   ]
  },
  {
   "cell_type": "markdown",
   "metadata": {},
   "source": [
    "### 4.2 模型子类化\n",
    "通过对 tf.keras.Model 进行子类化并定义您自己的前向传播来构建完全可自定义的模型。   \n",
    "在 init 方法中创建层并将它们设置为类实例的属性。   \n",
    "在 call 方法中定义前向传播。"
   ]
  },
  {
   "cell_type": "code",
   "execution_count": 11,
   "metadata": {},
   "outputs": [
    {
     "name": "stdout",
     "output_type": "stream",
     "text": [
      "Train on 1000 samples\n",
      "Epoch 1/5\n",
      "1000/1000 [==============================] - 0s 417us/sample - loss: 11.6890 - accuracy: 0.1090\n",
      "Epoch 2/5\n",
      "1000/1000 [==============================] - 0s 238us/sample - loss: 11.5315 - accuracy: 0.1050\n",
      "Epoch 3/5\n",
      "1000/1000 [==============================] - 0s 343us/sample - loss: 11.4950 - accuracy: 0.1030\n",
      "Epoch 4/5\n",
      "1000/1000 [==============================] - 0s 223us/sample - loss: 11.4745 - accuracy: 0.1000\n",
      "Epoch 5/5\n",
      "1000/1000 [==============================] - 0s 248us/sample - loss: 11.4617 - accuracy: 0.1000\n"
     ]
    },
    {
     "data": {
      "text/plain": [
       "<tensorflow.python.keras.callbacks.History at 0x2099d7d30b8>"
      ]
     },
     "execution_count": 11,
     "metadata": {},
     "output_type": "execute_result"
    }
   ],
   "source": [
    "class MyModel(tf.keras.Model):\n",
    "    def __init__(self, num_classes=10):\n",
    "        super(MyModel, self).__init__(name='my_model')\n",
    "        self.num_classes = num_classes\n",
    "        self.layer1 = layers.Dense(32, activation='relu')\n",
    "        self.layer2 = layers.Dense(num_classes, activation='softmax')\n",
    "        \n",
    "    def call(self, input):\n",
    "        hidden1 = self.layer1(input)\n",
    "        out = self.layer2(hidden1)\n",
    "        return out\n",
    "    \n",
    "    def compute_output_shape(self, input_shape):\n",
    "        shape = tf.TensorShape(input_shape).as_list()\n",
    "        shape[-1] = self.num_classes\n",
    "        return tf.TensorShape(shape)\n",
    "    \n",
    "model = MyModel(num_classes=10)\n",
    "model.compile(optimizer=tf.keras.optimizers.Adam(0.001),\n",
    "             loss=tf.keras.losses.categorical_crossentropy,\n",
    "             metrics=['accuracy'])\n",
    "model.fit(train_x, train_y, batch_size=16, epochs=5)"
   ]
  },
  {
   "cell_type": "markdown",
   "metadata": {},
   "source": [
    "### 4.3 自定义层\n",
    "通过对 tf.keras.layers.Layer 进行子类化并实现以下方法来创建自定义层：  \n",
    "build：创建层的权重。使用 add_weight 方法添加权重。  \n",
    "call：定义前向传播。  \n",
    "compute_output_shape：指定在给定输入形状的情况下如何计算层的输出形状。 或者，可以通过实现 get_config 方法和 from_config 类方法序列化层。"
   ]
  },
  {
   "cell_type": "code",
   "execution_count": 12,
   "metadata": {},
   "outputs": [
    {
     "name": "stdout",
     "output_type": "stream",
     "text": [
      "Train on 1000 samples\n",
      "Epoch 1/5\n",
      "1000/1000 [==============================] - 0s 289us/sample - loss: 11.4475 - accuracy: 0.1060\n",
      "Epoch 2/5\n",
      "1000/1000 [==============================] - 0s 190us/sample - loss: 11.4378 - accuracy: 0.1310\n",
      "Epoch 3/5\n",
      "1000/1000 [==============================] - 0s 224us/sample - loss: 11.4348 - accuracy: 0.1230\n",
      "Epoch 4/5\n",
      "1000/1000 [==============================] - 0s 202us/sample - loss: 11.4283 - accuracy: 0.1080\n",
      "Epoch 5/5\n",
      "1000/1000 [==============================] - 0s 265us/sample - loss: 11.4246 - accuracy: 0.1340\n"
     ]
    },
    {
     "data": {
      "text/plain": [
       "<tensorflow.python.keras.callbacks.History at 0x2099de0ee80>"
      ]
     },
     "execution_count": 12,
     "metadata": {},
     "output_type": "execute_result"
    }
   ],
   "source": [
    "class MyLayer(layers.Layer):\n",
    "    def __init__(self, output_dim, **kwargs):\n",
    "        self.output_dim = output_dim\n",
    "        super(MyLayer, self).__init__(**kwargs)\n",
    "        \n",
    "    def build(self, input_shape):\n",
    "        shape = tf.TensorShape((input_shape[1], self.output_dim))\n",
    "        self.kernel = self.add_weight(name='kernel1', shape=shape, initializer='uniform', trainable=True)\n",
    "        super(MyLayer, self).build(input_shape)\n",
    "        \n",
    "    def call(self, inputs):\n",
    "        return tf.matmul(inputs, self.kernel)\n",
    "    \n",
    "    def compute_output_shape(self, input_shape):\n",
    "        shape = tf.TensorShape(input_shape).as_list()\n",
    "        shape[-1] = self.output_dim\n",
    "        return tf.TensorShape(shape)\n",
    "    \n",
    "    def get_config(self):\n",
    "        base_config = super(MyLayer, self).get_config()\n",
    "        base_config['output_dim'] = self.output_dim\n",
    "        return base_config\n",
    "    \n",
    "    @classmethod\n",
    "    def from_config(cls, config):\n",
    "        return cls(**config)\n",
    "    \n",
    "model = tf.keras.Sequential(\n",
    "[    \n",
    "    MyLayer(output_dim=10),\n",
    "    layers.Activation('softmax')\n",
    "])\n",
    "model.compile(optimizer=tf.keras.optimizers.RMSprop(0.001),\n",
    "             loss=tf.keras.losses.categorical_crossentropy,\n",
    "             metrics=['accuracy'])\n",
    "\n",
    "model.fit(train_x, train_y, batch_size=16, epochs=5)"
   ]
  },
  {
   "cell_type": "markdown",
   "metadata": {},
   "source": [
    "### 4.3 回调"
   ]
  },
  {
   "cell_type": "code",
   "execution_count": 14,
   "metadata": {},
   "outputs": [
    {
     "name": "stdout",
     "output_type": "stream",
     "text": [
      "Train on 1000 samples, validate on 200 samples\n",
      "Epoch 1/5\n"
     ]
    },
    {
     "name": "stderr",
     "output_type": "stream",
     "text": [
      "W0805 23:32:54.198908 17884 callbacks.py:241] Method (on_train_batch_end) is slow compared to the batch update (0.266849). Check your callbacks.\n"
     ]
    },
    {
     "name": "stdout",
     "output_type": "stream",
     "text": [
      "\r",
      "  16/1000 [..............................] - ETA: 16s - loss: 10.3676 - accuracy: 0.0000e+00"
     ]
    },
    {
     "name": "stderr",
     "output_type": "stream",
     "text": [
      "W0805 23:32:54.253877 17884 callbacks.py:241] Method (on_train_batch_end) is slow compared to the batch update (0.154912). Check your callbacks.\n"
     ]
    },
    {
     "name": "stdout",
     "output_type": "stream",
     "text": [
      "1000/1000 [==============================] - 1s 636us/sample - loss: 11.4196 - accuracy: 0.1590 - val_loss: 11.5727 - val_accuracy: 0.1100\n",
      "Epoch 2/5\n",
      "1000/1000 [==============================] - 0s 219us/sample - loss: 11.4177 - accuracy: 0.1490 - val_loss: 11.5752 - val_accuracy: 0.1250\n",
      "Epoch 3/5\n",
      "1000/1000 [==============================] - 0s 219us/sample - loss: 11.4149 - accuracy: 0.1490 - val_loss: 11.5694 - val_accuracy: 0.1400\n",
      "Epoch 4/5\n",
      "1000/1000 [==============================] - 0s 235us/sample - loss: 11.4116 - accuracy: 0.1440 - val_loss: 11.5744 - val_accuracy: 0.1350\n",
      "Epoch 5/5\n",
      "1000/1000 [==============================] - 0s 226us/sample - loss: 11.4089 - accuracy: 0.1340 - val_loss: 11.5746 - val_accuracy: 0.1200\n"
     ]
    },
    {
     "data": {
      "text/plain": [
       "<tensorflow.python.keras.callbacks.History at 0x2099e1f6438>"
      ]
     },
     "execution_count": 14,
     "metadata": {},
     "output_type": "execute_result"
    }
   ],
   "source": [
    "callbacks = [\n",
    "    tf.keras.callbacks.EarlyStopping(patience=2, monitor='val_loss'),\n",
    "    tf.keras.callbacks.TensorBoard(log_dir='.\\\\^alogs')\n",
    "]\n",
    "model.fit(train_x, train_y, batch_size=16, epochs=5, \n",
    "         callbacks=callbacks, validation_data=(val_x, val_y))"
   ]
  }
 ],
 "metadata": {
  "kernelspec": {
   "display_name": "Python 3",
   "language": "python",
   "name": "python3"
  },
  "language_info": {
   "codemirror_mode": {
    "name": "ipython",
    "version": 3
   },
   "file_extension": ".py",
   "mimetype": "text/x-python",
   "name": "python",
   "nbconvert_exporter": "python",
   "pygments_lexer": "ipython3",
   "version": "3.6.5"
  }
 },
 "nbformat": 4,
 "nbformat_minor": 2
}
