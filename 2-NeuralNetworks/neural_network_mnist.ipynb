{
 "cells": [
  {
   "cell_type": "code",
   "execution_count": 38,
   "metadata": {},
   "outputs": [],
   "source": [
    "import tensorflow as tf\n",
    "import numpy as np\n",
    "import matplotlib.pyplot as plt\n",
    "%matplotlib inline "
   ]
  },
  {
   "cell_type": "code",
   "execution_count": 39,
   "metadata": {},
   "outputs": [
    {
     "name": "stdout",
     "output_type": "stream",
     "text": [
      "Extracting ../Resources/mnistdata\\train-images-idx3-ubyte.gz\n",
      "Extracting ../Resources/mnistdata\\train-labels-idx1-ubyte.gz\n",
      "Extracting ../Resources/mnistdata\\t10k-images-idx3-ubyte.gz\n",
      "Extracting ../Resources/mnistdata\\t10k-labels-idx1-ubyte.gz\n",
      "(55000, 784) (55000, 10)\n",
      "(10000, 784) (10000, 10)\n"
     ]
    }
   ],
   "source": [
    "# 获得mnist数据\n",
    "from tensorflow.examples.tutorials.mnist import input_data\n",
    "mnist = input_data.read_data_sets(\"../Resources/mnistdata\", one_hot=True)\n",
    "trainimg   = mnist.train.images\n",
    "trainlabel = mnist.train.labels\n",
    "testimg    = mnist.test.images\n",
    "testlabel  = mnist.test.labels\n",
    "print(trainimg.shape, trainlabel.shape)\n",
    "print(testimg.shape, testlabel.shape)"
   ]
  },
  {
   "cell_type": "code",
   "execution_count": 40,
   "metadata": {},
   "outputs": [
    {
     "name": "stdout",
     "output_type": "stream",
     "text": [
      "network ready\n"
     ]
    }
   ],
   "source": [
    "# params\n",
    "learning_rate = 0.001\n",
    "train_epochs = 100\n",
    "display_step = 10\n",
    "batch_size = 128\n",
    "\n",
    "n_features = 784\n",
    "n_classes = 10\n",
    "n_hidden1 = 512\n",
    "n_hidden2 = 512\n",
    "n_hidden3 = 256\n",
    "\n",
    "# placeholder\n",
    "x = tf.placeholder(tf.float32, [None, n_features])\n",
    "y = tf.placeholder(tf.float32, [None, n_classes])\n",
    "dropout_keep_prob = tf.placeholder('float')\n",
    "\n",
    "# variables\n",
    "stddev = 0.5\n",
    "weights = {\n",
    "    'h1' : tf.Variable(tf.random_normal([n_features, n_hidden1], stddev=stddev)),\n",
    "    'h2' : tf.Variable(tf.random_normal([n_hidden1, n_hidden2], stddev=stddev)),\n",
    "    'h3' : tf.Variable(tf.random_normal([n_hidden2, n_hidden3], stddev=stddev)),\n",
    "    'out' : tf.Variable(tf.random_normal([n_hidden3, n_classes], stddev=stddev))\n",
    "}\n",
    "\n",
    "biases = {\n",
    "    'b1' : tf.Variable(tf.random_normal([n_hidden1])),\n",
    "    'b2' : tf.Variable(tf.random_normal([n_hidden2])),\n",
    "    'b3' : tf.Variable(tf.random_normal([n_hidden3])),\n",
    "    'out' : tf.Variable(tf.random_normal([n_classes]))\n",
    "}\n",
    "print(\"network ready\")"
   ]
  },
  {
   "cell_type": "code",
   "execution_count": 41,
   "metadata": {},
   "outputs": [],
   "source": [
    "def predit(x, weight, biases, dropout_keep_prob):\n",
    "    x1 = tf.nn.relu(tf.matmul(x, weights['h1']) + biases['b1'])\n",
    "    layer1 = x1\n",
    "    x2 = tf.nn.relu(tf.matmul(layer1, weights['h2']) + biases['b2'])\n",
    "    layer2 = x2\n",
    "    x3 = tf.nn.relu(tf.matmul(layer2, weights['h3']) + biases['b3'])\n",
    "    # use dropout\n",
    "    layer3 = tf.nn.dropout(x3, dropout_keep_prob)\n",
    "    return (tf.matmul(layer3, weights['out']) + biases['out'])\n",
    "    "
   ]
  },
  {
   "cell_type": "code",
   "execution_count": 42,
   "metadata": {},
   "outputs": [
    {
     "name": "stdout",
     "output_type": "stream",
     "text": [
      "ready\n"
     ]
    }
   ],
   "source": [
    "pred = predit(x, weights, biases, dropout_keep_prob)\n",
    "# 损失函数 交叉熵\n",
    "cost = tf.reduce_mean(tf.nn.softmax_cross_entropy_with_logits_v2(logits=pred, labels=y))\n",
    "optimizer = tf.train.AdamOptimizer(learning_rate).minimize(cost)\n",
    "# 计算精度\n",
    "corr = tf.equal(tf.argmax(pred, 1), tf.argmax(y, 1))    \n",
    "accr = tf.reduce_mean(tf.cast(corr, \"float\"))\n",
    "\n",
    "init = tf.global_variables_initializer()\n",
    "print('ready')"
   ]
  },
  {
   "cell_type": "code",
   "execution_count": 43,
   "metadata": {
    "scrolled": true
   },
   "outputs": [
    {
     "name": "stdout",
     "output_type": "stream",
     "text": [
      "Epoch: 000/100 cost: 89.761417199\n",
      "TRAIN ACCURACY: 0.844\n",
      "TEST ACCURACY: 0.818\n",
      "Epoch: 010/100 cost: 0.956600005\n",
      "TRAIN ACCURACY: 0.656\n",
      "TEST ACCURACY: 0.660\n",
      "Epoch: 020/100 cost: 0.575819413\n",
      "TRAIN ACCURACY: 0.789\n",
      "TEST ACCURACY: 0.815\n",
      "Epoch: 030/100 cost: 0.363385069\n",
      "TRAIN ACCURACY: 0.898\n",
      "TEST ACCURACY: 0.906\n",
      "Epoch: 040/100 cost: 0.237642780\n",
      "TRAIN ACCURACY: 0.930\n",
      "TEST ACCURACY: 0.926\n",
      "Epoch: 050/100 cost: 0.159606950\n",
      "TRAIN ACCURACY: 0.969\n",
      "TEST ACCURACY: 0.941\n",
      "Epoch: 060/100 cost: 0.114717439\n",
      "TRAIN ACCURACY: 1.000\n",
      "TEST ACCURACY: 0.957\n",
      "Epoch: 070/100 cost: 0.098926095\n",
      "TRAIN ACCURACY: 0.953\n",
      "TEST ACCURACY: 0.956\n",
      "Epoch: 080/100 cost: 0.073473029\n",
      "TRAIN ACCURACY: 0.961\n",
      "TEST ACCURACY: 0.963\n",
      "Epoch: 090/100 cost: 0.052092432\n",
      "TRAIN ACCURACY: 0.992\n",
      "TEST ACCURACY: 0.967\n"
     ]
    }
   ],
   "source": [
    "# 开始训练\n",
    "with tf.Session() as sess:\n",
    "    sess.run(init)\n",
    "    for epoch in range(train_epochs):\n",
    "        avg_cost = 0\n",
    "        n_batch = int(mnist.train.num_examples / batch_size)\n",
    "        for i in range(n_batch):\n",
    "            batch_xs, batch_ys = mnist.train.next_batch(batch_size)\n",
    "            feeds = {x: batch_xs, y: batch_ys, dropout_keep_prob: 0.6}\n",
    "            sess.run(optimizer, feed_dict=feeds)\n",
    "            feeds = {x: batch_xs, y: batch_ys, dropout_keep_prob: 1.0}\n",
    "            avg_cost += sess.run(cost, feed_dict=feeds)\n",
    "        avg_cost /= n_batch\n",
    "        \n",
    "        # 显示\n",
    "        if epoch % display_step == 0:\n",
    "            print (\"Epoch: %03d/%03d cost: %.9f\" % (epoch, train_epochs, avg_cost))\n",
    "            feeds = {x: batch_xs, y: batch_ys, dropout_keep_prob: 1.0}\n",
    "            train_acc = sess.run(accr, feed_dict=feeds)\n",
    "            print (\"TRAIN ACCURACY: %.3f\" % (train_acc))\n",
    "            feeds = {x: testimg, y: testlabel, dropout_keep_prob: 1.0}\n",
    "            test_acc = sess.run(accr, feed_dict=feeds)\n",
    "            print (\"TEST ACCURACY: %.3f\" % (test_acc))\n",
    "            \n",
    "        "
   ]
  }
 ],
 "metadata": {
  "kernelspec": {
   "display_name": "Python 3",
   "language": "python",
   "name": "python3"
  },
  "language_info": {
   "codemirror_mode": {
    "name": "ipython",
    "version": 3
   },
   "file_extension": ".py",
   "mimetype": "text/x-python",
   "name": "python",
   "nbconvert_exporter": "python",
   "pygments_lexer": "ipython3",
   "version": "3.6.5"
  }
 },
 "nbformat": 4,
 "nbformat_minor": 2
}
